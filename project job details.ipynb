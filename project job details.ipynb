{
 "cells": [
  {
   "cell_type": "markdown",
   "id": "e24d8879",
   "metadata": {},
   "source": [
    "1) Collect and use job market data to explore data related positions or machine learning related \n",
    "positions in a particular region (e.g., US, India). Suggested websites for this assignment are:\n",
    "    \n",
    "- Indeed\n",
    "- Glassdoor\n",
    "- Naukri\n",
    "- Monster\n",
    "\n",
    "You will have to use appropriate keywords (for e.g., “data scientist”, “data engineer”, “ML \n",
    "engineer”) to extract information on the positions available on websites of your choice.\n",
    "While it is not compulsory to do so, you could use web scraping techniques to collect data from these websites. \n",
    "Also, note that you are not limited to the sites \n",
    "mentioned above. \n",
    "\n",
    "Note: Any one of the recommended websites can be used to extract data. Or you can select any job-related \n",
    "website of your choosing. You may select 1 keyword of your choice.\n",
    "Please make sure to use Web scraping technique for data extraction.\n"
   ]
  },
  {
   "cell_type": "code",
   "execution_count": 1,
   "id": "219ff0b4",
   "metadata": {},
   "outputs": [],
   "source": [
    "import time\n",
    "from selenium import webdriver\n",
    "from bs4 import BeautifulSoup\n",
    "import pandas as pd\n",
    "\n",
    "url_template = \"https://www.naukri.com/machine-learning-engineer-jobs-in-india?page={page}&k=machine%20learning%20engineer&l=india&nignbevent_src=jobsearchDeskGNB&experience=0\"\n",
    "num_pages = 20\n",
    "\n",
    "Title = []\n",
    "Company = []\n",
    "Location = []\n",
    "Ratings = []\n",
    "Reviewscount = []\n",
    "Key_skills = []\n",
    "link_to_apply = []\n",
    "\n",
    "driver = webdriver.Chrome()\n",
    "\n",
    "for page in range(1, num_pages + 1):\n",
    "    url = url_template.format(page=page)\n",
    "    driver.get(url)\n",
    "    time.sleep(3)\n",
    "   \n",
    "    soup = BeautifulSoup(driver.page_source, 'html.parser')\n",
    "\n",
    "    job_elements = soup.find_all('article', class_='jobTuple')\n",
    "   \n",
    "    for job_elem in job_elements:\n",
    "        title = job_elem.find('a', class_='title')\n",
    "        company = job_elem.find('a', class_='subTitle')\n",
    "        location = job_elem.find('span', class_='ellipsis fleft locWdth')\n",
    "        rating = job_elem.find('span', class_='starRating fleft')\n",
    "        reviewscount = job_elem.find('span', class_='reviewsCount fleft')\n",
    "        key_skills = job_elem.find('li', class_='fleft dot')\n",
    "        link = job_elem.find(\"a\", href=True)\n",
    "        base_url = \"https://www.naukri.com\"\n",
    "        final_link = base_url + link[\"href\"]\n",
    "       \n",
    "        Title.append(title.text.replace('\\n', \" \").strip())\n",
    "        Company.append(company.text.replace('\\n', \" \").strip())\n",
    "        Location.append(location.text)\n",
    "        Ratings.append(rating.text if rating else \"N/A\")\n",
    "        Reviewscount.append(reviewscount.text if reviewscount else \"N/A\")\n",
    "        Key_skills.append(key_skills.text.replace('\\n', \" \").strip())\n",
    "        link_to_apply.append(final_link.replace('\\n', \" \"))\n",
    "       \n",
    "    # Close the page after extracting data\n",
    "    driver.close()\n",
    "    driver = webdriver.Chrome()  # Re-initialize WebDriver\n",
    "   \n",
    "# Create and save DataFrame\n",
    "data = list(zip(Title, Company, Location, Ratings, Reviewscount, Key_skills, link_to_apply))\n",
    "df = pd.DataFrame(data, columns=[\"Title\", \"Company\", \"Location\", \"Ratings\", \"Reviewscount\", \"Key_skills\",\"Link\"])\n",
    "df.to_csv(\"job_data.csv\", index=False)\n"
   ]
  },
  {
   "cell_type": "code",
   "execution_count": 2,
   "id": "86a6ffe1",
   "metadata": {},
   "outputs": [],
   "source": [
    "data=pd.read_csv(\"job_data.csv\")"
   ]
  },
  {
   "cell_type": "code",
   "execution_count": 3,
   "id": "6f8730ba",
   "metadata": {},
   "outputs": [
    {
     "data": {
      "text/plain": [
       "(400, 7)"
      ]
     },
     "execution_count": 3,
     "metadata": {},
     "output_type": "execute_result"
    }
   ],
   "source": [
    "data.shape"
   ]
  },
  {
   "cell_type": "code",
   "execution_count": 4,
   "id": "92fcae0d",
   "metadata": {},
   "outputs": [
    {
     "data": {
      "text/html": [
       "<div>\n",
       "<style scoped>\n",
       "    .dataframe tbody tr th:only-of-type {\n",
       "        vertical-align: middle;\n",
       "    }\n",
       "\n",
       "    .dataframe tbody tr th {\n",
       "        vertical-align: top;\n",
       "    }\n",
       "\n",
       "    .dataframe thead th {\n",
       "        text-align: right;\n",
       "    }\n",
       "</style>\n",
       "<table border=\"1\" class=\"dataframe\">\n",
       "  <thead>\n",
       "    <tr style=\"text-align: right;\">\n",
       "      <th></th>\n",
       "      <th>Title</th>\n",
       "      <th>Company</th>\n",
       "      <th>Location</th>\n",
       "      <th>Ratings</th>\n",
       "      <th>Reviewscount</th>\n",
       "      <th>Key_skills</th>\n",
       "      <th>Link</th>\n",
       "    </tr>\n",
       "  </thead>\n",
       "  <tbody>\n",
       "    <tr>\n",
       "      <th>0</th>\n",
       "      <td>Machine Learning Engineer</td>\n",
       "      <td>Viga Entertainment Technology</td>\n",
       "      <td>Bangalore/Bengaluru</td>\n",
       "      <td>4.5</td>\n",
       "      <td>2 Reviews</td>\n",
       "      <td>Computer vision</td>\n",
       "      <td>https://www.naukri.comhttps://www.naukri.com/j...</td>\n",
       "    </tr>\n",
       "    <tr>\n",
       "      <th>1</th>\n",
       "      <td>Machine Learning Engineer</td>\n",
       "      <td>Mantras2success Consultants</td>\n",
       "      <td>Hyderabad/Secunderabad</td>\n",
       "      <td>4.9</td>\n",
       "      <td>8 Reviews</td>\n",
       "      <td>BPO</td>\n",
       "      <td>https://www.naukri.comhttps://www.naukri.com/j...</td>\n",
       "    </tr>\n",
       "    <tr>\n",
       "      <th>2</th>\n",
       "      <td>Machine Learning Engineer</td>\n",
       "      <td>Cubicle Compass - Pointing You To Success</td>\n",
       "      <td>Chennai</td>\n",
       "      <td>NaN</td>\n",
       "      <td>NaN</td>\n",
       "      <td>Telecom</td>\n",
       "      <td>https://www.naukri.comhttps://www.naukri.com/j...</td>\n",
       "    </tr>\n",
       "    <tr>\n",
       "      <th>3</th>\n",
       "      <td>Machine Learning Engineer</td>\n",
       "      <td>e con Systems</td>\n",
       "      <td>Chennai</td>\n",
       "      <td>3.7</td>\n",
       "      <td>45 Reviews</td>\n",
       "      <td>3D</td>\n",
       "      <td>https://www.naukri.comhttps://www.naukri.com/j...</td>\n",
       "    </tr>\n",
       "    <tr>\n",
       "      <th>4</th>\n",
       "      <td>Machine Learning Engineer</td>\n",
       "      <td>Samyak Infotech</td>\n",
       "      <td>Ahmedabad</td>\n",
       "      <td>4.3</td>\n",
       "      <td>18 Reviews</td>\n",
       "      <td>Machine learning</td>\n",
       "      <td>https://www.naukri.comhttps://www.naukri.com/j...</td>\n",
       "    </tr>\n",
       "  </tbody>\n",
       "</table>\n",
       "</div>"
      ],
      "text/plain": [
       "                       Title                                    Company  \\\n",
       "0  Machine Learning Engineer              Viga Entertainment Technology   \n",
       "1  Machine Learning Engineer                Mantras2success Consultants   \n",
       "2  Machine Learning Engineer  Cubicle Compass - Pointing You To Success   \n",
       "3  Machine Learning Engineer                              e con Systems   \n",
       "4  Machine Learning Engineer                            Samyak Infotech   \n",
       "\n",
       "                 Location  Ratings Reviewscount        Key_skills  \\\n",
       "0     Bangalore/Bengaluru      4.5    2 Reviews   Computer vision   \n",
       "1  Hyderabad/Secunderabad      4.9    8 Reviews               BPO   \n",
       "2                 Chennai      NaN          NaN           Telecom   \n",
       "3                 Chennai      3.7   45 Reviews                3D   \n",
       "4               Ahmedabad      4.3   18 Reviews  Machine learning   \n",
       "\n",
       "                                                Link  \n",
       "0  https://www.naukri.comhttps://www.naukri.com/j...  \n",
       "1  https://www.naukri.comhttps://www.naukri.com/j...  \n",
       "2  https://www.naukri.comhttps://www.naukri.com/j...  \n",
       "3  https://www.naukri.comhttps://www.naukri.com/j...  \n",
       "4  https://www.naukri.comhttps://www.naukri.com/j...  "
      ]
     },
     "execution_count": 4,
     "metadata": {},
     "output_type": "execute_result"
    }
   ],
   "source": [
    "data.head(5)"
   ]
  },
  {
   "cell_type": "code",
   "execution_count": 5,
   "id": "212a50bf",
   "metadata": {},
   "outputs": [
    {
     "data": {
      "text/html": [
       "<div>\n",
       "<style scoped>\n",
       "    .dataframe tbody tr th:only-of-type {\n",
       "        vertical-align: middle;\n",
       "    }\n",
       "\n",
       "    .dataframe tbody tr th {\n",
       "        vertical-align: top;\n",
       "    }\n",
       "\n",
       "    .dataframe thead th {\n",
       "        text-align: right;\n",
       "    }\n",
       "</style>\n",
       "<table border=\"1\" class=\"dataframe\">\n",
       "  <thead>\n",
       "    <tr style=\"text-align: right;\">\n",
       "      <th></th>\n",
       "      <th>Title</th>\n",
       "      <th>Company</th>\n",
       "      <th>Location</th>\n",
       "      <th>Ratings</th>\n",
       "      <th>Reviewscount</th>\n",
       "      <th>Key_skills</th>\n",
       "      <th>Link</th>\n",
       "    </tr>\n",
       "  </thead>\n",
       "  <tbody>\n",
       "    <tr>\n",
       "      <th>395</th>\n",
       "      <td>Data Scientist</td>\n",
       "      <td>Yulu Bikes</td>\n",
       "      <td>Bangalore/Bengaluru</td>\n",
       "      <td>3.9</td>\n",
       "      <td>27 Reviews</td>\n",
       "      <td>Mining</td>\n",
       "      <td>https://www.naukri.comhttps://www.naukri.com/j...</td>\n",
       "    </tr>\n",
       "    <tr>\n",
       "      <th>396</th>\n",
       "      <td>data scientist</td>\n",
       "      <td>Global Talent Pool</td>\n",
       "      <td>Bangalore/Bengaluru</td>\n",
       "      <td>NaN</td>\n",
       "      <td>NaN</td>\n",
       "      <td>Computer vision</td>\n",
       "      <td>https://www.naukri.comhttps://www.naukri.com/j...</td>\n",
       "    </tr>\n",
       "    <tr>\n",
       "      <th>397</th>\n",
       "      <td>Data Scientist</td>\n",
       "      <td>Akaike Technologies</td>\n",
       "      <td>Bangalore/Bengaluru</td>\n",
       "      <td>NaN</td>\n",
       "      <td>NaN</td>\n",
       "      <td>deep learning</td>\n",
       "      <td>https://www.naukri.comhttps://www.naukri.com/j...</td>\n",
       "    </tr>\n",
       "    <tr>\n",
       "      <th>398</th>\n",
       "      <td>Data Scientist</td>\n",
       "      <td>Pacific Placements &amp;amp;amp; Consultancy</td>\n",
       "      <td>Kolhapur</td>\n",
       "      <td>NaN</td>\n",
       "      <td>NaN</td>\n",
       "      <td>Computer science</td>\n",
       "      <td>https://www.naukri.comhttps://www.naukri.com/j...</td>\n",
       "    </tr>\n",
       "    <tr>\n",
       "      <th>399</th>\n",
       "      <td>Data Scientist (Ph.D. Must)</td>\n",
       "      <td>NGI Ventures</td>\n",
       "      <td>Remote</td>\n",
       "      <td>4.1</td>\n",
       "      <td>56 Reviews</td>\n",
       "      <td>Python</td>\n",
       "      <td>https://www.naukri.comhttps://www.naukri.com/j...</td>\n",
       "    </tr>\n",
       "  </tbody>\n",
       "</table>\n",
       "</div>"
      ],
      "text/plain": [
       "                           Title                                   Company  \\\n",
       "395               Data Scientist                                Yulu Bikes   \n",
       "396               data scientist                        Global Talent Pool   \n",
       "397               Data Scientist                       Akaike Technologies   \n",
       "398               Data Scientist  Pacific Placements &amp;amp; Consultancy   \n",
       "399  Data Scientist (Ph.D. Must)                              NGI Ventures   \n",
       "\n",
       "                Location  Ratings Reviewscount        Key_skills  \\\n",
       "395  Bangalore/Bengaluru      3.9   27 Reviews            Mining   \n",
       "396  Bangalore/Bengaluru      NaN          NaN   Computer vision   \n",
       "397  Bangalore/Bengaluru      NaN          NaN     deep learning   \n",
       "398             Kolhapur      NaN          NaN  Computer science   \n",
       "399               Remote      4.1   56 Reviews            Python   \n",
       "\n",
       "                                                  Link  \n",
       "395  https://www.naukri.comhttps://www.naukri.com/j...  \n",
       "396  https://www.naukri.comhttps://www.naukri.com/j...  \n",
       "397  https://www.naukri.comhttps://www.naukri.com/j...  \n",
       "398  https://www.naukri.comhttps://www.naukri.com/j...  \n",
       "399  https://www.naukri.comhttps://www.naukri.com/j...  "
      ]
     },
     "execution_count": 5,
     "metadata": {},
     "output_type": "execute_result"
    }
   ],
   "source": [
    "data.tail(5)"
   ]
  },
  {
   "cell_type": "code",
   "execution_count": 6,
   "id": "fd69385d",
   "metadata": {},
   "outputs": [
    {
     "data": {
      "text/plain": [
       "Title             0\n",
       "Company           0\n",
       "Location          0\n",
       "Ratings         180\n",
       "Reviewscount    180\n",
       "Key_skills        0\n",
       "Link              0\n",
       "dtype: int64"
      ]
     },
     "execution_count": 6,
     "metadata": {},
     "output_type": "execute_result"
    }
   ],
   "source": [
    "data.isnull().sum()"
   ]
  },
  {
   "cell_type": "code",
   "execution_count": 7,
   "id": "c2a6ad9f",
   "metadata": {},
   "outputs": [],
   "source": [
    "import seaborn as sns\n",
    "import matplotlib.pyplot as plt\n",
    "%matplotlib inline "
   ]
  },
  {
   "cell_type": "code",
   "execution_count": 8,
   "id": "01471867",
   "metadata": {},
   "outputs": [
    {
     "data": {
      "text/plain": [
       "20"
      ]
     },
     "execution_count": 8,
     "metadata": {},
     "output_type": "execute_result"
    }
   ],
   "source": [
    "data['Company'].nunique()"
   ]
  },
  {
   "cell_type": "code",
   "execution_count": 9,
   "id": "17b03d85",
   "metadata": {},
   "outputs": [
    {
     "data": {
      "text/plain": [
       "Title            object\n",
       "Company          object\n",
       "Location         object\n",
       "Ratings         float64\n",
       "Reviewscount     object\n",
       "Key_skills       object\n",
       "Link             object\n",
       "dtype: object"
      ]
     },
     "execution_count": 9,
     "metadata": {},
     "output_type": "execute_result"
    }
   ],
   "source": [
    "data.dtypes"
   ]
  }
 ],
 "metadata": {
  "kernelspec": {
   "display_name": "Python 3 (ipykernel)",
   "language": "python",
   "name": "python3"
  },
  "language_info": {
   "codemirror_mode": {
    "name": "ipython",
    "version": 3
   },
   "file_extension": ".py",
   "mimetype": "text/x-python",
   "name": "python",
   "nbconvert_exporter": "python",
   "pygments_lexer": "ipython3",
   "version": "3.10.9"
  }
 },
 "nbformat": 4,
 "nbformat_minor": 5
}
